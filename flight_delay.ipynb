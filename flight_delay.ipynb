{
 "cells": [
  {
   "cell_type": "markdown",
   "metadata": {},
   "source": [
    "# Flight Delay Bayesian Network Analysis"
   ]
  },
  {
   "cell_type": "code",
   "execution_count": 22,
   "metadata": {
    "collapsed": true
   },
   "outputs": [],
   "source": [
    "import pandas as pd\n",
    "import numpy as np\n",
    "import matplotlib.pyplot as plt\n",
    "from pomegranate import *\n",
    "%matplotlib inline"
   ]
  },
  {
   "cell_type": "code",
   "execution_count": 3,
   "metadata": {},
   "outputs": [
    {
     "name": "stderr",
     "output_type": "stream",
     "text": [
      "/Users/pear/anaconda/envs/env_gdal/lib/python2.7/site-packages/IPython/core/interactiveshell.py:2718: DtypeWarning: Columns (7,8) have mixed types. Specify dtype option on import or set low_memory=False.\n",
      "  interactivity=interactivity, compiler=compiler, result=result)\n"
     ]
    }
   ],
   "source": [
    "#Read flight data for the year 2015\n",
    "data = pd.read_csv(r'data/flights.csv')"
   ]
  },
  {
   "cell_type": "code",
   "execution_count": 5,
   "metadata": {},
   "outputs": [
    {
     "data": {
      "text/html": [
       "<div>\n",
       "<style>\n",
       "    .dataframe thead tr:only-child th {\n",
       "        text-align: right;\n",
       "    }\n",
       "\n",
       "    .dataframe thead th {\n",
       "        text-align: left;\n",
       "    }\n",
       "\n",
       "    .dataframe tbody tr th {\n",
       "        vertical-align: top;\n",
       "    }\n",
       "</style>\n",
       "<table border=\"1\" class=\"dataframe\">\n",
       "  <thead>\n",
       "    <tr style=\"text-align: right;\">\n",
       "      <th></th>\n",
       "      <th>YEAR</th>\n",
       "      <th>MONTH</th>\n",
       "      <th>DAY</th>\n",
       "      <th>DAY_OF_WEEK</th>\n",
       "      <th>AIRLINE</th>\n",
       "      <th>FLIGHT_NUMBER</th>\n",
       "      <th>TAIL_NUMBER</th>\n",
       "      <th>ORIGIN_AIRPORT</th>\n",
       "      <th>DESTINATION_AIRPORT</th>\n",
       "      <th>SCHEDULED_DEPARTURE</th>\n",
       "      <th>...</th>\n",
       "      <th>ARRIVAL_TIME</th>\n",
       "      <th>ARRIVAL_DELAY</th>\n",
       "      <th>DIVERTED</th>\n",
       "      <th>CANCELLED</th>\n",
       "      <th>CANCELLATION_REASON</th>\n",
       "      <th>AIR_SYSTEM_DELAY</th>\n",
       "      <th>SECURITY_DELAY</th>\n",
       "      <th>AIRLINE_DELAY</th>\n",
       "      <th>LATE_AIRCRAFT_DELAY</th>\n",
       "      <th>WEATHER_DELAY</th>\n",
       "    </tr>\n",
       "  </thead>\n",
       "  <tbody>\n",
       "    <tr>\n",
       "      <th>0</th>\n",
       "      <td>2015</td>\n",
       "      <td>1</td>\n",
       "      <td>1</td>\n",
       "      <td>4</td>\n",
       "      <td>AS</td>\n",
       "      <td>98</td>\n",
       "      <td>N407AS</td>\n",
       "      <td>ANC</td>\n",
       "      <td>SEA</td>\n",
       "      <td>5</td>\n",
       "      <td>...</td>\n",
       "      <td>408.0</td>\n",
       "      <td>-22.0</td>\n",
       "      <td>0</td>\n",
       "      <td>0</td>\n",
       "      <td>NaN</td>\n",
       "      <td>NaN</td>\n",
       "      <td>NaN</td>\n",
       "      <td>NaN</td>\n",
       "      <td>NaN</td>\n",
       "      <td>NaN</td>\n",
       "    </tr>\n",
       "    <tr>\n",
       "      <th>1</th>\n",
       "      <td>2015</td>\n",
       "      <td>1</td>\n",
       "      <td>1</td>\n",
       "      <td>4</td>\n",
       "      <td>AA</td>\n",
       "      <td>2336</td>\n",
       "      <td>N3KUAA</td>\n",
       "      <td>LAX</td>\n",
       "      <td>PBI</td>\n",
       "      <td>10</td>\n",
       "      <td>...</td>\n",
       "      <td>741.0</td>\n",
       "      <td>-9.0</td>\n",
       "      <td>0</td>\n",
       "      <td>0</td>\n",
       "      <td>NaN</td>\n",
       "      <td>NaN</td>\n",
       "      <td>NaN</td>\n",
       "      <td>NaN</td>\n",
       "      <td>NaN</td>\n",
       "      <td>NaN</td>\n",
       "    </tr>\n",
       "    <tr>\n",
       "      <th>2</th>\n",
       "      <td>2015</td>\n",
       "      <td>1</td>\n",
       "      <td>1</td>\n",
       "      <td>4</td>\n",
       "      <td>US</td>\n",
       "      <td>840</td>\n",
       "      <td>N171US</td>\n",
       "      <td>SFO</td>\n",
       "      <td>CLT</td>\n",
       "      <td>20</td>\n",
       "      <td>...</td>\n",
       "      <td>811.0</td>\n",
       "      <td>5.0</td>\n",
       "      <td>0</td>\n",
       "      <td>0</td>\n",
       "      <td>NaN</td>\n",
       "      <td>NaN</td>\n",
       "      <td>NaN</td>\n",
       "      <td>NaN</td>\n",
       "      <td>NaN</td>\n",
       "      <td>NaN</td>\n",
       "    </tr>\n",
       "    <tr>\n",
       "      <th>3</th>\n",
       "      <td>2015</td>\n",
       "      <td>1</td>\n",
       "      <td>1</td>\n",
       "      <td>4</td>\n",
       "      <td>AA</td>\n",
       "      <td>258</td>\n",
       "      <td>N3HYAA</td>\n",
       "      <td>LAX</td>\n",
       "      <td>MIA</td>\n",
       "      <td>20</td>\n",
       "      <td>...</td>\n",
       "      <td>756.0</td>\n",
       "      <td>-9.0</td>\n",
       "      <td>0</td>\n",
       "      <td>0</td>\n",
       "      <td>NaN</td>\n",
       "      <td>NaN</td>\n",
       "      <td>NaN</td>\n",
       "      <td>NaN</td>\n",
       "      <td>NaN</td>\n",
       "      <td>NaN</td>\n",
       "    </tr>\n",
       "    <tr>\n",
       "      <th>4</th>\n",
       "      <td>2015</td>\n",
       "      <td>1</td>\n",
       "      <td>1</td>\n",
       "      <td>4</td>\n",
       "      <td>AS</td>\n",
       "      <td>135</td>\n",
       "      <td>N527AS</td>\n",
       "      <td>SEA</td>\n",
       "      <td>ANC</td>\n",
       "      <td>25</td>\n",
       "      <td>...</td>\n",
       "      <td>259.0</td>\n",
       "      <td>-21.0</td>\n",
       "      <td>0</td>\n",
       "      <td>0</td>\n",
       "      <td>NaN</td>\n",
       "      <td>NaN</td>\n",
       "      <td>NaN</td>\n",
       "      <td>NaN</td>\n",
       "      <td>NaN</td>\n",
       "      <td>NaN</td>\n",
       "    </tr>\n",
       "  </tbody>\n",
       "</table>\n",
       "<p>5 rows × 31 columns</p>\n",
       "</div>"
      ],
      "text/plain": [
       "   YEAR  MONTH  DAY  DAY_OF_WEEK AIRLINE  FLIGHT_NUMBER TAIL_NUMBER  \\\n",
       "0  2015      1    1            4      AS             98      N407AS   \n",
       "1  2015      1    1            4      AA           2336      N3KUAA   \n",
       "2  2015      1    1            4      US            840      N171US   \n",
       "3  2015      1    1            4      AA            258      N3HYAA   \n",
       "4  2015      1    1            4      AS            135      N527AS   \n",
       "\n",
       "  ORIGIN_AIRPORT DESTINATION_AIRPORT  SCHEDULED_DEPARTURE      ...        \\\n",
       "0            ANC                 SEA                    5      ...         \n",
       "1            LAX                 PBI                   10      ...         \n",
       "2            SFO                 CLT                   20      ...         \n",
       "3            LAX                 MIA                   20      ...         \n",
       "4            SEA                 ANC                   25      ...         \n",
       "\n",
       "   ARRIVAL_TIME  ARRIVAL_DELAY  DIVERTED  CANCELLED  CANCELLATION_REASON  \\\n",
       "0         408.0          -22.0         0          0                  NaN   \n",
       "1         741.0           -9.0         0          0                  NaN   \n",
       "2         811.0            5.0         0          0                  NaN   \n",
       "3         756.0           -9.0         0          0                  NaN   \n",
       "4         259.0          -21.0         0          0                  NaN   \n",
       "\n",
       "   AIR_SYSTEM_DELAY  SECURITY_DELAY  AIRLINE_DELAY  LATE_AIRCRAFT_DELAY  \\\n",
       "0               NaN             NaN            NaN                  NaN   \n",
       "1               NaN             NaN            NaN                  NaN   \n",
       "2               NaN             NaN            NaN                  NaN   \n",
       "3               NaN             NaN            NaN                  NaN   \n",
       "4               NaN             NaN            NaN                  NaN   \n",
       "\n",
       "   WEATHER_DELAY  \n",
       "0            NaN  \n",
       "1            NaN  \n",
       "2            NaN  \n",
       "3            NaN  \n",
       "4            NaN  \n",
       "\n",
       "[5 rows x 31 columns]"
      ]
     },
     "execution_count": 5,
     "metadata": {},
     "output_type": "execute_result"
    }
   ],
   "source": [
    "data.head()"
   ]
  },
  {
   "cell_type": "code",
   "execution_count": 6,
   "metadata": {},
   "outputs": [
    {
     "data": {
      "text/plain": [
       "(5819079, 31)"
      ]
     },
     "execution_count": 6,
     "metadata": {},
     "output_type": "execute_result"
    }
   ],
   "source": [
    "data.shape"
   ]
  },
  {
   "cell_type": "code",
   "execution_count": 10,
   "metadata": {},
   "outputs": [
    {
     "data": {
      "text/plain": [
       "Index([u'YEAR', u'MONTH', u'DAY', u'DAY_OF_WEEK', u'AIRLINE', u'FLIGHT_NUMBER',\n",
       "       u'TAIL_NUMBER', u'ORIGIN_AIRPORT', u'DESTINATION_AIRPORT',\n",
       "       u'SCHEDULED_DEPARTURE', u'DEPARTURE_TIME', u'DEPARTURE_DELAY',\n",
       "       u'TAXI_OUT', u'WHEELS_OFF', u'SCHEDULED_TIME', u'ELAPSED_TIME',\n",
       "       u'AIR_TIME', u'DISTANCE', u'WHEELS_ON', u'TAXI_IN',\n",
       "       u'SCHEDULED_ARRIVAL', u'ARRIVAL_TIME', u'ARRIVAL_DELAY', u'DIVERTED',\n",
       "       u'CANCELLED', u'CANCELLATION_REASON', u'AIR_SYSTEM_DELAY',\n",
       "       u'SECURITY_DELAY', u'AIRLINE_DELAY', u'LATE_AIRCRAFT_DELAY',\n",
       "       u'WEATHER_DELAY'],\n",
       "      dtype='object')"
      ]
     },
     "execution_count": 10,
     "metadata": {},
     "output_type": "execute_result"
    }
   ],
   "source": [
    "data.columns"
   ]
  },
  {
   "cell_type": "code",
   "execution_count": 10,
   "metadata": {},
   "outputs": [
    {
     "data": {
      "text/plain": [
       "YEAR                   5819079\n",
       "MONTH                  5819079\n",
       "DAY                    5819079\n",
       "DAY_OF_WEEK            5819079\n",
       "AIRLINE                5819079\n",
       "FLIGHT_NUMBER          5819079\n",
       "TAIL_NUMBER            5804358\n",
       "ORIGIN_AIRPORT         5819079\n",
       "DESTINATION_AIRPORT    5819079\n",
       "SCHEDULED_DEPARTURE    5819079\n",
       "DEPARTURE_TIME         5732926\n",
       "DEPARTURE_DELAY        5732926\n",
       "TAXI_OUT               5730032\n",
       "WHEELS_OFF             5730032\n",
       "SCHEDULED_TIME         5819073\n",
       "ELAPSED_TIME           5714008\n",
       "AIR_TIME               5714008\n",
       "DISTANCE               5819079\n",
       "WHEELS_ON              5726566\n",
       "TAXI_IN                5726566\n",
       "SCHEDULED_ARRIVAL      5819079\n",
       "ARRIVAL_TIME           5726566\n",
       "ARRIVAL_DELAY          5714008\n",
       "DIVERTED               5819079\n",
       "CANCELLED              5819079\n",
       "CANCELLATION_REASON      89884\n",
       "AIR_SYSTEM_DELAY       1063439\n",
       "SECURITY_DELAY         1063439\n",
       "AIRLINE_DELAY          1063439\n",
       "LATE_AIRCRAFT_DELAY    1063439\n",
       "WEATHER_DELAY          1063439\n",
       "dtype: int64"
      ]
     },
     "execution_count": 10,
     "metadata": {},
     "output_type": "execute_result"
    }
   ],
   "source": [
    "#looking at missing values\n",
    "data.count()"
   ]
  },
  {
   "cell_type": "markdown",
   "metadata": {},
   "source": [
    "How many cancelled flights?"
   ]
  },
  {
   "cell_type": "code",
   "execution_count": 15,
   "metadata": {},
   "outputs": [
    {
     "data": {
      "text/plain": [
       "0    5729195\n",
       "1      89884\n",
       "Name: CANCELLED, dtype: int64"
      ]
     },
     "execution_count": 15,
     "metadata": {},
     "output_type": "execute_result"
    }
   ],
   "source": [
    "data['CANCELLED'].value_counts()"
   ]
  },
  {
   "cell_type": "code",
   "execution_count": 19,
   "metadata": {},
   "outputs": [
    {
     "name": "stdout",
     "output_type": "stream",
     "text": [
      "Non cancelled flight: 5639311\n",
      "Percent of flights cancelled: 1.54464306121\n"
     ]
    }
   ],
   "source": [
    "count = data['CANCELLED'].value_counts()\n",
    "print 'Non cancelled flight:',count[0]-count[1]\n",
    "print 'Percent of flights cancelled:', float(count[1])*100./len(data)"
   ]
  },
  {
   "cell_type": "markdown",
   "metadata": {},
   "source": [
    "Examining departure_delay, which gives departure_time-scheduled_time."
   ]
  },
  {
   "cell_type": "code",
   "execution_count": 20,
   "metadata": {},
   "outputs": [
    {
     "data": {
      "text/plain": [
       "1    86153\n",
       "Name: CANCELLED, dtype: int64"
      ]
     },
     "execution_count": 20,
     "metadata": {},
     "output_type": "execute_result"
    }
   ],
   "source": [
    "#Are the missing values in departure_delay because of cancellation?\n",
    "data.loc[data['DEPARTURE_DELAY'].isnull(),'CANCELLED'].value_counts()"
   ]
  },
  {
   "cell_type": "markdown",
   "metadata": {},
   "source": [
    "Yes, all the missing entries for departure_delay are cancelled flights. Makes sense. However, there are some cancelled flights that have departure_delay values. Not sure why. Let's see the distribution."
   ]
  },
  {
   "cell_type": "code",
   "execution_count": 28,
   "metadata": {},
   "outputs": [
    {
     "data": {
      "image/png": "[encoded data removed]",
      "text/plain": [
       "<matplotlib.figure.Figure at 0x11e498e50>"
      ]
     },
     "metadata": {},
     "output_type": "display_data"
    }
   ],
   "source": [
    "fig, ax = plt.subplots()\n",
    "ax.set_xlim([-50,200])\n",
    "ax.hist(data.loc[data['DEPARTURE_DELAY'].notnull(),'DEPARTURE_DELAY'],bins=200)\n",
    "plt.show()"
   ]
  },
  {
   "cell_type": "markdown",
   "metadata": {},
   "source": [
    "The negative values are the flights that departed early. We are going to classify flights with delay time >= 15 mins as delayed. How many delayed flights?"
   ]
  },
  {
   "cell_type": "code",
   "execution_count": 35,
   "metadata": {
    "collapsed": true
   },
   "outputs": [],
   "source": [
    "delayed_count = (data['DEPARTURE_DELAY']>=15.).value_counts()"
   ]
  },
  {
   "cell_type": "code",
   "execution_count": 36,
   "metadata": {
    "scrolled": true
   },
   "outputs": [
    {
     "data": {
      "text/plain": [
       "False    4761525\n",
       "True     1057554\n",
       "Name: DEPARTURE_DELAY, dtype: int64"
      ]
     },
     "execution_count": 36,
     "metadata": {},
     "output_type": "execute_result"
    }
   ],
   "source": [
    "delayed_count"
   ]
  },
  {
   "cell_type": "code",
   "execution_count": 38,
   "metadata": {},
   "outputs": [
    {
     "name": "stdout",
     "output_type": "stream",
     "text": [
      "Percentage of delayed flights: 18.1739069018\n"
     ]
    }
   ],
   "source": [
    "print 'Percentage of delayed flights:', delayed_count[1]*100./len(data)"
   ]
  },
  {
   "cell_type": "markdown",
   "metadata": {},
   "source": [
    "Since we are concerned with flights that did not leave as scheduled, we want to include cancelled flights in the prediction as well. We are going to add a column for delayed/cancelled flights."
   ]
  },
  {
   "cell_type": "code",
   "execution_count": 39,
   "metadata": {
    "collapsed": true
   },
   "outputs": [],
   "source": [
    "data['delayed'] = (data['DEPARTURE_DELAY']>=15.)|(data['CANCELLED']==1)"
   ]
  },
  {
   "cell_type": "code",
   "execution_count": 45,
   "metadata": {},
   "outputs": [
    {
     "name": "stdout",
     "output_type": "stream",
     "text": [
      "Percentage of delayed/cancelled: 19.683252281\n"
     ]
    }
   ],
   "source": [
    "print 'Percentage of delayed/cancelled:',(data['delayed']==True).sum()*100./len(data)"
   ]
  },
  {
   "cell_type": "markdown",
   "metadata": {},
   "source": [
    "## Testing a simple Bayes Net"
   ]
  },
  {
   "cell_type": "code",
   "execution_count": 49,
   "metadata": {
    "collapsed": true
   },
   "outputs": [],
   "source": [
    "prob_airlines = DiscreteDistribution.from_samples(data['AIRLINE'].values)"
   ]
  },
  {
   "cell_type": "code",
   "execution_count": 50,
   "metadata": {},
   "outputs": [
    {
     "data": {
      "text/plain": [
       "{\n",
       "    \"frozen\" :false,\n",
       "    \"class\" :\"Distribution\",\n",
       "    \"parameters\" :[\n",
       "        {\n",
       "            \"AA\" :0.12475926173196823,\n",
       "            \"OO\" :0.10110758077008407,\n",
       "            \"DL\" :0.15051883640005576,\n",
       "            \"NK\" :0.020171405131293115,\n",
       "            \"EV\" :0.09829338972713723,\n",
       "            \"F9\" :0.01561003038453336,\n",
       "            \"B6\" :0.0458917983412839,\n",
       "            \"US\" :0.0341488747617965,\n",
       "            \"AS\" :0.029647475141684792,\n",
       "            \"MQ\" :0.05063206737698526,\n",
       "            \"WN\" :0.21684788950278902,\n",
       "            \"VX\" :0.01063793772175975,\n",
       "            \"HA\" :0.013107228824355194,\n",
       "            \"UA\" :0.08862622418427384\n",
       "        }\n",
       "    ],\n",
       "    \"name\" :\"DiscreteDistribution\"\n",
       "}"
      ]
     },
     "execution_count": 50,
     "metadata": {},
     "output_type": "execute_result"
    }
   ],
   "source": [
    "prob_airlines"
   ]
  },
  {
   "cell_type": "code",
   "execution_count": 51,
   "metadata": {
    "collapsed": true
   },
   "outputs": [],
   "source": [
    "prob_months = DiscreteDistribution.from_samples(data['MONTH'].values)"
   ]
  },
  {
   "cell_type": "code",
   "execution_count": 52,
   "metadata": {},
   "outputs": [
    {
     "data": {
      "text/plain": [
       "{\n",
       "    \"frozen\" :false,\n",
       "    \"class\" :\"Distribution\",\n",
       "    \"parameters\" :[\n",
       "        {\n",
       "            \"11\" :0.08042028644051748,\n",
       "            \"10\" :0.0835467262087351,\n",
       "            \"12\" :0.08235495685829321,\n",
       "            \"1\" :0.0807632960473642,\n",
       "            \"3\" :0.0866652609459332,\n",
       "            \"2\" :0.07375582974556627,\n",
       "            \"5\" :0.08540750177132841,\n",
       "            \"4\" :0.08337247182930495,\n",
       "            \"7\" :0.08948460744389275,\n",
       "            \"6\" :0.08659394381825715,\n",
       "            \"9\" :0.07990027287823383,\n",
       "            \"8\" :0.08773484601257346\n",
       "        }\n",
       "    ],\n",
       "    \"name\" :\"DiscreteDistribution\"\n",
       "}"
      ]
     },
     "execution_count": 52,
     "metadata": {},
     "output_type": "execute_result"
    }
   ],
   "source": [
    "prob_months"
   ]
  },
  {
   "cell_type": "code",
   "execution_count": 56,
   "metadata": {},
   "outputs": [],
   "source": [
    "prob_delayed = ConditionalProbabilityTable.from_samples(data[['AIRLINE','MONTH','delayed']].values,\n",
    "                                                        [prob_airlines,prob_months])"
   ]
  },
  {
   "cell_type": "code",
   "execution_count": 58,
   "metadata": {
    "collapsed": true
   },
   "outputs": [],
   "source": [
    "s1 = State(prob_airlines, name='airline')\n",
    "s2 = State(prob_months, name='month')\n",
    "s3 = State(prob_delayed, name='delayed')"
   ]
  },
  {
   "cell_type": "code",
   "execution_count": 59,
   "metadata": {
    "collapsed": true
   },
   "outputs": [],
   "source": [
    "model = BayesianNetwork('flight_delay')"
   ]
  },
  {
   "cell_type": "code",
   "execution_count": 60,
   "metadata": {
    "collapsed": true
   },
   "outputs": [],
   "source": [
    "model.add_states(s1, s2, s3)"
   ]
  },
  {
   "cell_type": "code",
   "execution_count": 61,
   "metadata": {
    "collapsed": true
   },
   "outputs": [],
   "source": [
    "model.add_transition(s1, s3)\n",
    "model.add_transition(s2, s3)\n",
    "model.bake()"
   ]
  },
  {
   "cell_type": "code",
   "execution_count": 68,
   "metadata": {},
   "outputs": [
    {
     "data": {
      "text/plain": [
       "array([ {\n",
       "    \"frozen\" :false,\n",
       "    \"class\" :\"Distribution\",\n",
       "    \"parameters\" :[\n",
       "        {\n",
       "            \"AA\" :0.0,\n",
       "            \"OO\" :0.0,\n",
       "            \"DL\" :0.0,\n",
       "            \"NK\" :0.0,\n",
       "            \"EV\" :0.0,\n",
       "            \"F9\" :0.0,\n",
       "            \"B6\" :0.0,\n",
       "            \"US\" :0.0,\n",
       "            \"AS\" :0.0,\n",
       "            \"MQ\" :0.0,\n",
       "            \"WN\" :0.0,\n",
       "            \"VX\" :0.0,\n",
       "            \"HA\" :0.0,\n",
       "            \"UA\" :1.0\n",
       "        }\n",
       "    ],\n",
       "    \"name\" :\"DiscreteDistribution\"\n",
       "},\n",
       "       {\n",
       "    \"frozen\" :false,\n",
       "    \"class\" :\"Distribution\",\n",
       "    \"parameters\" :[\n",
       "        {\n",
       "            \"11\" :0.0804202864405175,\n",
       "            \"10\" :0.08354672620873516,\n",
       "            \"12\" :0.08235495685829321,\n",
       "            \"1\" :0.08076329604736412,\n",
       "            \"3\" :0.08666526094593324,\n",
       "            \"2\" :0.07375582974556634,\n",
       "            \"5\" :0.0854075017713284,\n",
       "            \"4\" :0.083372471829305,\n",
       "            \"7\" :0.0894846074438927,\n",
       "            \"6\" :0.08659394381825715,\n",
       "            \"9\" :0.07990027287823387,\n",
       "            \"8\" :0.08773484601257352\n",
       "        }\n",
       "    ],\n",
       "    \"name\" :\"DiscreteDistribution\"\n",
       "},\n",
       "       {\n",
       "    \"frozen\" :false,\n",
       "    \"class\" :\"Distribution\",\n",
       "    \"parameters\" :[\n",
       "        {\n",
       "            \"True\" :0.2467883475326961,\n",
       "            \"False\" :0.7532116524673039\n",
       "        }\n",
       "    ],\n",
       "    \"name\" :\"DiscreteDistribution\"\n",
       "}], dtype=object)"
      ]
     },
     "execution_count": 68,
     "metadata": {},
     "output_type": "execute_result"
    }
   ],
   "source": [
    "model.predict_proba({'airline':'UA'})"
   ]
  },
  {
   "cell_type": "code",
   "execution_count": null,
   "metadata": {
    "collapsed": true
   },
   "outputs": [],
   "source": []
  }
 ],
 "metadata": {
  "kernelspec": {
   "display_name": "Python 2",
   "language": "python",
   "name": "python2"
  },
  "language_info": {
   "codemirror_mode": {
    "name": "ipython",
    "version": 2
   },
   "file_extension": ".py",
   "mimetype": "text/x-python",
   "name": "python",
   "nbconvert_exporter": "python",
   "pygments_lexer": "ipython2",
   "version": "2.7.13"
  }
 },
 "nbformat": 4,
 "nbformat_minor": 2
}
